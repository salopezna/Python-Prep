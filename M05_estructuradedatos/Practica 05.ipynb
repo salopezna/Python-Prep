{
 "cells": [
  {
   "cell_type": "code",
   "execution_count": 26,
   "metadata": {},
   "outputs": [
    {
     "name": "stdout",
     "output_type": "stream",
     "text": [
      "<class 'list'>\n",
      "['PYTHON', 'RE', 4, 5.9]\n",
      "PYTHON\n",
      "[4, 5.9]\n",
      "['PYTHON', 'RE', 4, 5.9, 234643]\n",
      "['PYTHON', 'RE', 4, 'shfgsdf', 5.9, 234643]\n",
      "['PYTHON', 'RE', 4, 'shfgsdf', 5.9, 234643, 888888, 333333]\n"
     ]
    }
   ],
   "source": [
    "lista=[\"PYTHON\",\"RE\",4,5.9]\n",
    "print(type(lista))\n",
    "print(lista)\n",
    "print(lista[0])\n",
    "print(lista[2:4])\n",
    "lista.append(234643)\n",
    "print(lista)\n",
    "lista.insert(3,\"shfgsdf\")\n",
    "print(lista)\n",
    "lista.extend([888888,333333]) #para concatenar otra lista a la inicial\n",
    "print(lista)"
   ]
  },
  {
   "cell_type": "code",
   "execution_count": 53,
   "metadata": {},
   "outputs": [
    {
     "name": "stdout",
     "output_type": "stream",
     "text": [
      "2\n",
      "1\n",
      "['PYTHON', 'RE', 4, 'shfgsdf', 5.9, 888888, 333333]\n",
      "333333    ['PYTHON', 'RE', 'shfgsdf', 5.9, 888888]    4\n"
     ]
    }
   ],
   "source": [
    "lista=['PYTHON', 'RE', 4, 'shfgsdf', 5.9, 234643, 888888, 333333]\n",
    "print(lista.index(4)) #para saber en que posicion está el dato \"4\"\n",
    "print(lista.index(\"RE\")) #si el dato \"RE\" no existe entonces saldrá un error al no encontrarlo\n",
    "lista.remove(234643)\n",
    "print(lista)\n",
    "ultimo_dato=lista.pop() #para extraer el ultimo dato de la lista\n",
    "tercer_dato=lista.pop(2) #para extraer el tercer dato de la lista\n",
    "lista\n",
    "print(ultimo_dato,\"  \",lista,\"  \",tercer_dato)\n"
   ]
  },
  {
   "cell_type": "code",
   "execution_count": 64,
   "metadata": {},
   "outputs": [
    {
     "name": "stdout",
     "output_type": "stream",
     "text": [
      "['PYTHON', 'RE', 'fdsfg', 'shfgsdf', 'w', 'c', 'PYTHON', 'RE', 'fdsfg', 'shfgsdf', 'w', 'c']\n",
      "[3, 4, 6, 7, 9, 22, 22, 55]\n",
      "['PYTHON', 'PYTHON', 'RE', 'RE', 'c', 'c', 'fdsfg', 'fdsfg', 'shfgsdf', 'shfgsdf', 'w', 'w']\n"
     ]
    }
   ],
   "source": [
    "lista=['PYTHON', 'RE', \"fdsfg\", 'shfgsdf', \"w\", \"c\"]\n",
    "lista=lista*2\n",
    "print(lista)\n",
    "num=[3,6,9,22,4,22,7,55]\n",
    "num.sort()\n",
    "lista.sort()\n",
    "print(num)\n",
    "print(lista)"
   ]
  },
  {
   "cell_type": "code",
   "execution_count": 72,
   "metadata": {},
   "outputs": [
    {
     "name": "stdout",
     "output_type": "stream",
     "text": [
      "(3, 6, 2, 7, 'dsfg', 'sf')\n",
      "dsfg\n"
     ]
    },
    {
     "data": {
      "text/plain": [
       "True"
      ]
     },
     "execution_count": 72,
     "metadata": {},
     "output_type": "execute_result"
    }
   ],
   "source": [
    "#vamos ahora con tuplas\n",
    "\n",
    "mitu=(3,6,2,7,\"dsfg\",\"sf\")\n",
    "print(mitu)\n",
    "print(mitu[4]) #para consultar el dato ubicado en la posicion 4\n",
    "#para validar si en la tupla existe o no un dato denominado \"sf\"\n",
    "\"sf\" in mitu"
   ]
  },
  {
   "cell_type": "code",
   "execution_count": 132,
   "metadata": {},
   "outputs": [
    {
     "name": "stdout",
     "output_type": "stream",
     "text": [
      "3\n",
      "(3, 6, 2, 7, 'dsfg')\n"
     ]
    }
   ],
   "source": [
    "#para contar x elementos en un tupla\n",
    "mitu=(3,6,2,7,\"dsfg\",2,5,6,2,\"sf\",\"s\",\"r\",\"s\")\n",
    "print(mitu.count(2))\n",
    "print(mitu[:5])"
   ]
  },
  {
   "cell_type": "code",
   "execution_count": 106,
   "metadata": {},
   "outputs": [
    {
     "name": "stdout",
     "output_type": "stream",
     "text": [
      "<class 'tuple'>\n",
      "Sergio Andres Lopez Navarro\n",
      "Lopez Navarro\n"
     ]
    }
   ],
   "source": [
    "#desempaquetado de tuplas\n",
    "x=\"Sergio\"\n",
    "y=\"Andres\"\n",
    "z=\"Lopez Navarro\"\n",
    "tupp=x,y,z\n",
    "print(type(tupp))\n",
    "nombre, segnom,apellidos=tupp #para que funcione el desempaquetado se requiere que la cantidad de variables sea igual a la cantidad de lementos en la tupla\n",
    "print(nombre+\" \"+segnom+\" \"+apellidos)\n",
    "ap=\"\"\n",
    "a,b,c=tupp\n",
    "print(c)"
   ]
  },
  {
   "cell_type": "code",
   "execution_count": 117,
   "metadata": {},
   "outputs": [
    {
     "name": "stdout",
     "output_type": "stream",
     "text": [
      "{'dato1': 'Uno'}\n",
      "{'dato1': 'Uno', 'dato2': 'Dos', 'tercero': 3}\n",
      "{'a': 1, 'b': 2, 'ulitmo': 'z'}\n",
      "{'nombres': ['sergio', 'Andres'], 'apellidos': ['lopez', 'navarro'], 'edad': 41, 'masculino': True, 'color1': 'cafe', 'color2': 'verde'}\n",
      "{'nombres': ['sergio', 'Andres'], 'apellidos': ['lopez', 'navarro'], 'edad': 41, 'masculino': True, 'color1': 'cafe'}\n"
     ]
    }
   ],
   "source": [
    "#arrancamos con diccionarios\n",
    "primdic=dict()\n",
    "type(primdic)\n",
    "primdic[\"dato1\"]=\"Uno\"\n",
    "print(primdic)\n",
    "primdic[\"dato2\"]=\"Dos\"\n",
    "primdic[\"tercero\"]=3\n",
    "print(primdic)\n",
    "\n",
    "segdic={\"a\":1,\"b\":2,\"ulitmo\":\"z\"}\n",
    "print(segdic)\n",
    "\n",
    "terdic={\"nombres\":[\"sergio\",\"Andres\"],\n",
    "        \"apellidos\":[\"lopez\",\"navarro\"],\n",
    "        \"edad\":41,\n",
    "        \"masculino\":True,\n",
    "        \"color1\":\"cafe\",\n",
    "        \"color2\":\"verde\"}\n",
    "print(terdic)\n",
    "del terdic[\"color2\"]\n",
    "print(terdic)\n"
   ]
  },
  {
   "cell_type": "code",
   "execution_count": 128,
   "metadata": {},
   "outputs": [
    {
     "name": "stdout",
     "output_type": "stream",
     "text": [
      "('colombia', 'argentina', 'peru', 'brazil')\n",
      "{'colombia': 'bogota', 'argentina': 'buenos aires', 'peru': 'lima', 'brazil': 'sau paulo'}\n",
      "{'a': 1, 'b': 4, 'c': (2, 5, 7, 3)}\n",
      "['dsf', 'ag', 234, 324, 35]\n",
      "{'h': 'H', 'r': 'R', 'nom_tupla': ('colombia', 'argentina', 'peru', 'brazil'), 'nom_list': ['dsf', 'ag', 234, 324, 35]}\n",
      "{'h': 'H', 'dicc': {'a': 1, 'b': 4, 'c': (2, 5, 7, 3)}, 'r': 'R', 'nom_tupla': ('colombia', 'argentina', 'peru', 'brazil'), 'nom_list': ['dsf', 'ag', 234, 324, 35]}\n"
     ]
    }
   ],
   "source": [
    "#usando tuplas como claves para los diccionarios\n",
    "mi_tupla=(\"colombia\",\"argentina\",\"peru\",\"brazil\")\n",
    "print(mi_tupla)\n",
    "capitales={mi_tupla[0]:\"bogota\",mi_tupla[1]:\"buenos aires\",mi_tupla[2]:\"lima\",mi_tupla[3]:\"sau paulo\"}\n",
    "print(capitales)\n",
    "\n",
    "#usando tuplas como valores en los diccionarios\n",
    "cuardic={\"a\":1,\"b\":4,\"c\":(2,5,7,3)}\n",
    "print(cuardic)\n",
    "\n",
    "lista_a=[\"dsf\",\"ag\",234,324,35]\n",
    "print(lista_a)\n",
    "\n",
    "dic_tu_y_lis={\"h\":\"H\",\"r\":\"R\",\"nom_tupla\":mi_tupla,\"nom_list\":lista_a}\n",
    "print(dic_tu_y_lis)\n",
    "\n",
    "dic_tu_y_lis={\"h\":\"H\",\"dicc\":cuardic,\"r\":\"R\",\"nom_tupla\":mi_tupla,\"nom_list\":lista_a}\n",
    "print(dic_tu_y_lis)"
   ]
  },
  {
   "cell_type": "code",
   "execution_count": 131,
   "metadata": {},
   "outputs": [
    {
     "name": "stdout",
     "output_type": "stream",
     "text": [
      "dict_keys(['h', 'dicc', 'r', 'nom_tupla', 'nom_list'])\n",
      "dict_values(['H', {'a': 1, 'b': 4, 'c': (2, 5, 7, 3)}, 'R', ('colombia', 'argentina', 'peru', 'brazil'), ['dsf', 'ag', 234, 324, 35]])\n",
      "5\n"
     ]
    }
   ],
   "source": [
    "#claves, valores, longitudes de los diccionarios\n",
    "\n",
    "print(dic_tu_y_lis.keys())\n",
    "print(dic_tu_y_lis.values())\n",
    "print(len(dic_tu_y_lis))\n"
   ]
  }
 ],
 "metadata": {
  "kernelspec": {
   "display_name": "Python 3",
   "language": "python",
   "name": "python3"
  },
  "language_info": {
   "codemirror_mode": {
    "name": "ipython",
    "version": 3
   },
   "file_extension": ".py",
   "mimetype": "text/x-python",
   "name": "python",
   "nbconvert_exporter": "python",
   "pygments_lexer": "ipython3",
   "version": "3.9.6"
  }
 },
 "nbformat": 4,
 "nbformat_minor": 2
}
