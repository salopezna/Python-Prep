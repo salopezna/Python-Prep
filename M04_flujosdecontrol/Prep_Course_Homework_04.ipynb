{
 "cells": [
  {
   "attachments": {},
   "cell_type": "markdown",
   "metadata": {},
   "source": [
    "## Flujos de Control"
   ]
  },
  {
   "attachments": {},
   "cell_type": "markdown",
   "metadata": {},
   "source": [
    "1) Crear una variable que contenga un elemento del conjunto de números enteros y luego imprimir por pantalla si es mayor o menor a cero"
   ]
  },
  {
   "cell_type": "code",
   "execution_count": 5,
   "metadata": {},
   "outputs": [
    {
     "name": "stdout",
     "output_type": "stream",
     "text": [
      "La variable es menor que  5\n",
      "La variable es menor que  5\n",
      "La variable es menor que  5\n",
      "La variable es menor que  5\n",
      "La variable es menor que  5\n",
      "La variable es igual a  5\n",
      "La variable es mayor que  5\n",
      "La variable es mayor que  5\n",
      "La variable es mayor que  5\n",
      "La variable es mayor que  5\n"
     ]
    }
   ],
   "source": [
    "variable=5\n",
    "for i in range(10):\n",
    "    if i>variable:\n",
    "        print(\"La variable es mayor que \",variable)\n",
    "    elif i==variable:\n",
    "        print(\"La variable es igual a \",variable)\n",
    "    else:\n",
    "        print(\"La variable es menor que \",variable)"
   ]
  },
  {
   "attachments": {},
   "cell_type": "markdown",
   "metadata": {},
   "source": [
    "2) Crear dos variables y un condicional que informe si son del mismo tipo de dato"
   ]
  },
  {
   "cell_type": "code",
   "execution_count": 11,
   "metadata": {},
   "outputs": [
    {
     "name": "stdout",
     "output_type": "stream",
     "text": [
      "las variables 4  y  8 son del mismo tipo que corresponde a  <class 'int'>\n"
     ]
    }
   ],
   "source": [
    "a=4\n",
    "b=8\n",
    "if type(a)==type(b):\n",
    "    print(\"las variables\",a,\" y \",b,\"son del mismo tipo que corresponde a \",type(a))"
   ]
  },
  {
   "attachments": {},
   "cell_type": "markdown",
   "metadata": {},
   "source": [
    "3) Para los valores enteros del 1 al 20, imprimir por pantalla si es par o impar"
   ]
  },
  {
   "cell_type": "code",
   "execution_count": 16,
   "metadata": {},
   "outputs": [
    {
     "name": "stdout",
     "output_type": "stream",
     "text": [
      "1  es impar\n",
      "2  es un numero par\n",
      "3  es impar\n",
      "4  es un numero par\n",
      "5  es impar\n",
      "6  es un numero par\n",
      "7  es impar\n",
      "8  es un numero par\n",
      "9  es impar\n",
      "10  es un numero par\n",
      "11  es impar\n",
      "12  es un numero par\n",
      "13  es impar\n",
      "14  es un numero par\n",
      "15  es impar\n",
      "16  es un numero par\n",
      "17  es impar\n",
      "18  es un numero par\n",
      "19  es impar\n",
      "20  es un numero par\n"
     ]
    }
   ],
   "source": [
    "for i in range(1,21):\n",
    "    if i%2==0:\n",
    "        print(i,\" es un numero par\")\n",
    "    else:\n",
    "        print(i,\" es impar\")"
   ]
  },
  {
   "attachments": {},
   "cell_type": "markdown",
   "metadata": {},
   "source": [
    "4) En un ciclo for mostrar para los valores entre 0 y 5 el resultado de elevarlo a la potencia igual a 3"
   ]
  },
  {
   "cell_type": "code",
   "execution_count": 21,
   "metadata": {},
   "outputs": [
    {
     "name": "stdout",
     "output_type": "stream",
     "text": [
      "El numero  0  elevado a la 3 es  0\n",
      "El numero  1  elevado a la 3 es  1\n",
      "El numero  2  elevado a la 3 es  8\n",
      "El numero  3  elevado a la 3 es  27\n",
      "El numero  4  elevado a la 3 es  64\n",
      "El numero  5  elevado a la 3 es  125\n"
     ]
    }
   ],
   "source": [
    "for i in range(6):\n",
    "    print(\"El numero \",i,\" elevado a la 3 es \",i**3)"
   ]
  },
  {
   "attachments": {},
   "cell_type": "markdown",
   "metadata": {},
   "source": [
    "5) Crear una variable que contenga un número entero y realizar un ciclo for la misma cantidad de ciclos"
   ]
  },
  {
   "cell_type": "code",
   "execution_count": 25,
   "metadata": {},
   "outputs": [
    {
     "name": "stdout",
     "output_type": "stream",
     "text": [
      "ciclo numero  1\n",
      "ciclo numero  2\n",
      "ciclo numero  3\n",
      "ciclo numero  4\n",
      "ciclo numero  5\n",
      "ciclo numero  6\n"
     ]
    }
   ],
   "source": [
    "var=6\n",
    "for n in range(1,var+1):\n",
    "    print(\"ciclo numero \",n)"
   ]
  },
  {
   "attachments": {},
   "cell_type": "markdown",
   "metadata": {},
   "source": [
    "6) Utilizar un ciclo while para realizar el factorial de un número guardado en una variable, sólo si la variable contiene un número entero mayor a 0"
   ]
  },
  {
   "cell_type": "code",
   "execution_count": 33,
   "metadata": {},
   "outputs": [
    {
     "name": "stdout",
     "output_type": "stream",
     "text": [
      "15\n"
     ]
    }
   ],
   "source": [
    "var=5\n",
    "c=0\n",
    "fact=0\n",
    "while c<var:\n",
    "    c+=1\n",
    "    fact+=c \n",
    "print(fact)"
   ]
  },
  {
   "attachments": {},
   "cell_type": "markdown",
   "metadata": {},
   "source": [
    "7) Crear un ciclo for dentro de un ciclo while"
   ]
  },
  {
   "cell_type": "code",
   "execution_count": 39,
   "metadata": {},
   "outputs": [
    {
     "name": "stdout",
     "output_type": "stream",
     "text": [
      "0 es igual a 0\n",
      "1 es igual a 1\n",
      "2 es igual a 2\n"
     ]
    }
   ],
   "source": [
    "ii=0\n",
    "while ii<n:\n",
    "    for n in range(3):\n",
    "        print(ii, \"es igual a\",n)\n",
    "        ii+=1"
   ]
  },
  {
   "attachments": {},
   "cell_type": "markdown",
   "metadata": {},
   "source": [
    "8) Crear un ciclo while dentro de un ciclo for"
   ]
  },
  {
   "cell_type": "code",
   "execution_count": 50,
   "metadata": {},
   "outputs": [
    {
     "name": "stdout",
     "output_type": "stream",
     "text": [
      "quedamos en: 3\n",
      "quedamos en: 4\n",
      "quedamos en: 5\n",
      "aun no es 4\n",
      "quedamos en: 6\n"
     ]
    }
   ],
   "source": [
    "for iii in range(3,7):\n",
    "    while iii>5:\n",
    "        print(\"aun no es 4\")\n",
    "        break\n",
    "\n",
    "    print(\"quedamos en:\",iii)"
   ]
  },
  {
   "attachments": {},
   "cell_type": "markdown",
   "metadata": {},
   "source": [
    "9) Imprimir los números primos existentes entre 0 y 30"
   ]
  },
  {
   "cell_type": "code",
   "execution_count": 155,
   "metadata": {},
   "outputs": [
    {
     "name": "stdout",
     "output_type": "stream",
     "text": [
      "2\n",
      "3\n",
      "5\n",
      "7\n",
      "11\n",
      "13\n",
      "17\n",
      "19\n",
      "23\n",
      "29\n"
     ]
    }
   ],
   "source": [
    "\n",
    "for i in range(2,31):\n",
    "    b=0\n",
    "    if i==2:\n",
    "            print(i)\n",
    "    else:\n",
    "        for j in range(2,i):\n",
    "            if i%j==0:\n",
    "                b+=1\n",
    "        if b==0:\n",
    "             print(i) \n"
   ]
  },
  {
   "attachments": {},
   "cell_type": "markdown",
   "metadata": {},
   "source": [
    "10) ¿Se puede mejorar el proceso del punto 9? Utilizar las sentencias break y/ó continue para tal fin"
   ]
  },
  {
   "cell_type": "code",
   "execution_count": 157,
   "metadata": {},
   "outputs": [
    {
     "name": "stdout",
     "output_type": "stream",
     "text": [
      "2\n",
      "3\n",
      "5\n",
      "7\n",
      "11\n",
      "13\n",
      "17\n",
      "19\n",
      "23\n",
      "29\n"
     ]
    }
   ],
   "source": [
    "for i in range(2,31):\n",
    "    b=0\n",
    "    if i==2:\n",
    "            print(i)\n",
    "    else:\n",
    "        for j in range(2,i):\n",
    "            if i%j==0:\n",
    "                b+=1\n",
    "                break\n",
    "        if b==0:\n",
    "             print(i) "
   ]
  },
  {
   "attachments": {},
   "cell_type": "markdown",
   "metadata": {},
   "source": [
    "11) En los puntos 9 y 10, se diseño un código que encuentra números primos y además se lo optimizó. ¿Es posible saber en qué medida se optimizó?"
   ]
  },
  {
   "cell_type": "markdown",
   "metadata": {},
   "source": []
  },
  {
   "cell_type": "code",
   "execution_count": null,
   "metadata": {},
   "outputs": [],
   "source": [
    "#en la cantidad de ciclos necesarios en el segundo for"
   ]
  },
  {
   "attachments": {},
   "cell_type": "markdown",
   "metadata": {},
   "source": [
    "12) Aplicando continue, armar un ciclo while que solo imprima los valores divisibles por 12, dentro del rango de números de 100 a 300"
   ]
  },
  {
   "cell_type": "code",
   "execution_count": 170,
   "metadata": {},
   "outputs": [
    {
     "name": "stdout",
     "output_type": "stream",
     "text": [
      "108\n",
      "120\n",
      "132\n",
      "144\n",
      "156\n",
      "168\n",
      "180\n",
      "192\n",
      "204\n",
      "216\n",
      "228\n",
      "240\n",
      "252\n",
      "264\n",
      "276\n",
      "288\n",
      "300\n",
      "108\n",
      "120\n",
      "132\n",
      "144\n",
      "156\n",
      "168\n",
      "180\n",
      "192\n",
      "204\n",
      "216\n",
      "228\n",
      "240\n",
      "252\n",
      "264\n",
      "276\n",
      "288\n",
      "300\n"
     ]
    }
   ],
   "source": [
    "val=100\n",
    "while val <= 300:\n",
    "    if val%12==0:\n",
    "        print(val)\n",
    "    val+=1\n",
    "    \n",
    "val=100\n",
    "while val <= 300:\n",
    "    if val%12!=0:\n",
    "        val+=1\n",
    "        continue\n",
    "    print(val)\n",
    "    val+=1"
   ]
  },
  {
   "attachments": {},
   "cell_type": "markdown",
   "metadata": {},
   "source": [
    "13) Utilizar la función **input()** que permite hacer ingresos por teclado, para encontrar números primos y dar la opción al usario de buscar el siguiente"
   ]
  },
  {
   "cell_type": "code",
   "execution_count": 12,
   "metadata": {},
   "outputs": [
    {
     "name": "stdout",
     "output_type": "stream",
     "text": [
      "el numero  7  es primo\n",
      "el numero  9  no es primo\n"
     ]
    }
   ],
   "source": [
    "accion=\"si\"\n",
    "while accion == \"si\":\n",
    "    num=int(input(\"Ingrese el número para validar si es o no número primo: \"))\n",
    "    b=0\n",
    "    if num==2:\n",
    "            print(\"el numero \",num,\" es primo\")\n",
    "    else:\n",
    "        for j in range(2,num):\n",
    "            if num%j==0:\n",
    "                b+=1\n",
    "        if b==0:\n",
    "            print(\"el numero \",num,\" es primo\")\n",
    "        else:\n",
    "            print(\"el numero \",num,\" no es primo\")\n",
    "    accion=input(\"desea ingresar algun otro numero o ya terminar? (Si/No): \")\n"
   ]
  },
  {
   "attachments": {},
   "cell_type": "markdown",
   "metadata": {},
   "source": [
    "14) Crear un ciclo while que encuentre dentro del rango de 100 a 300 el primer número divisible por 3 y además múltiplo de 6"
   ]
  },
  {
   "cell_type": "code",
   "execution_count": 28,
   "metadata": {},
   "outputs": [
    {
     "name": "stdout",
     "output_type": "stream",
     "text": [
      "102\n"
     ]
    }
   ],
   "source": [
    "num=100\n",
    "while num <= 300:\n",
    "    if num%3==0:\n",
    "        if num%6==0:\n",
    "            print(num)\n",
    "            break\n",
    "        \n",
    "    num+=1"
   ]
  }
 ],
 "metadata": {
  "interpreter": {
   "hash": "c85384e4cb51c8b72350f3a8712cc8351fdc3955e32a27f9b60c6242ab125f01"
  },
  "kernelspec": {
   "display_name": "Python 3 (ipykernel)",
   "language": "python",
   "name": "python3"
  },
  "language_info": {
   "codemirror_mode": {
    "name": "ipython",
    "version": 3
   },
   "file_extension": ".py",
   "mimetype": "text/x-python",
   "name": "python",
   "nbconvert_exporter": "python",
   "pygments_lexer": "ipython3",
   "version": "3.9.6"
  }
 },
 "nbformat": 4,
 "nbformat_minor": 4
}
